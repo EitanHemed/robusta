{
 "cells": [
  {
   "cell_type": "markdown",
   "metadata": {},
   "source": [
    "# ROBUSTA \n",
    "\n",
    "### Author: [Eitan Hemed](mailto:Eitan.Hemed@gmail.com)\n",
    "\n",
    "robusta is a statistics package in Python3 providing an interface to \n",
    "many common statistical analyses, performed using through [R](https://www.r-project.org/)\n",
    "and [RPY2](https://github.com/rpy2/rpy2).  \n",
    "\n",
    "\n",
    "**PLEASE NOTE** robusta is under active development and is supplied as-is with no guarantees.\n"
   ]
  },
  {
   "cell_type": "markdown",
   "metadata": {},
   "source": [
    "## Installation\n",
    "\n",
    "Install with pip using `pip install https://github.com/EitanHemed/robusta/archive/master.zip`"
   ]
  },
  {
   "cell_type": "markdown",
   "metadata": {},
   "source": [
    "## Usage"
   ]
  },
  {
   "cell_type": "markdown",
   "metadata": {},
   "source": [
    "### Importing the library and loading data\n",
    "Let's import rosbusta. This could take up to 10 seconds as many R libraries are imported under the hood. If you begin with an empty R environment the first you import robusta should take 1-2 minutes, as some R dependencies will be installed."
   ]
  },
  {
   "cell_type": "code",
   "execution_count": 1,
   "metadata": {
    "scrolled": true
   },
   "outputs": [
    {
     "name": "stdout",
     "output_type": "stream",
     "text": [
      "Initializing robusta. Please wait.\n"
     ]
    },
    {
     "name": "stderr",
     "output_type": "stream",
     "text": [
      "100%|██████████| 16/16 [00:15<00:00,  1.06it/s]\n"
     ]
    }
   ],
   "source": [
    "import robusta as rst"
   ]
  },
  {
   "cell_type": "code",
   "execution_count": 2,
   "metadata": {
    "hide_input": false
   },
   "outputs": [],
   "source": [
    "# Define a helper function, to pretty-print output of DFs when converting the notebook to .md\n",
    "# https://gist.github.com/rgerkin/af5b27a0e30531c30f2bf628aa41a553\n",
    "from tabulate import tabulate\n",
    "import IPython.display as d\n",
    "\n",
    "def md_print_df(df):\n",
    "    md = tabulate(df, headers='keys', tablefmt='pipe')\n",
    "    md = md.replace('|    |','| %s |' % (df.index.name if df.index.name else ''))\n",
    "    result = d.Markdown(md)\n",
    "    return result"
   ]
  },
  {
   "cell_type": "markdown",
   "metadata": {},
   "source": [
    "First off, we need data. Using robusta we can import R built-in and some imported datasets. You can get a full list of the datasets, similarly to calling to `data()` with no input arguments in R."
   ]
  },
  {
   "cell_type": "code",
   "execution_count": 3,
   "metadata": {
    "scrolled": false
   },
   "outputs": [
    {
     "data": {
      "text/markdown": [
       "|     | Package   | Item                  | Description                                                                                  |\n",
       "|----:|:----------|:----------------------|:---------------------------------------------------------------------------------------------|\n",
       "| 285 | ARTool    | Higgins1990Table5     | Split-plot Experiment Examining Effect of Moisture and Fertilizer on Dry Matter in Peat Pots |\n",
       "| 286 | ARTool    | Higgins1990Table1.art | Aligned Rank Transformed Version of Higgins1990Table1                                        |\n",
       "| 287 | ARTool    | Higgins1990Table1     | Synthetic 3x3 Factorial Randomized Experiment                                                |\n",
       "| 288 | ARTool    | ElkinABC              | Synthetic 2x2x2 Within-Subjects Experiment                                                   |\n",
       "| 289 | ARTool    | ElkinAB               | Synthetic 2x2 Within-Subjects Experiment                                                     |"
      ],
      "text/plain": [
       "<IPython.core.display.Markdown object>"
      ]
     },
     "execution_count": 3,
     "metadata": {},
     "output_type": "execute_result"
    }
   ],
   "source": [
    "md_print_df(rst.get_available_datasets().tail())"
   ]
  },
  {
   "cell_type": "markdown",
   "metadata": {},
   "source": [
    "We can import a dataset using `rst.load_dataset`"
   ]
  },
  {
   "cell_type": "code",
   "execution_count": 4,
   "metadata": {},
   "outputs": [
    {
     "data": {
      "text/markdown": [
       "|  |   dataset_rownames |   Sepal.Length |   Sepal.Width |   Petal.Length |   Petal.Width | Species   |\n",
       "|---:|-------------------:|---------------:|--------------:|---------------:|--------------:|:----------|\n",
       "|  0 |                  1 |            5.1 |           3.5 |            1.4 |           0.2 | setosa    |\n",
       "|  1 |                  2 |            4.9 |           3   |            1.4 |           0.2 | setosa    |\n",
       "|  2 |                  3 |            4.7 |           3.2 |            1.3 |           0.2 | setosa    |\n",
       "|  3 |                  4 |            4.6 |           3.1 |            1.5 |           0.2 | setosa    |\n",
       "|  4 |                  5 |            5   |           3.6 |            1.4 |           0.2 | setosa    |"
      ],
      "text/plain": [
       "<IPython.core.display.Markdown object>"
      ]
     },
     "execution_count": 4,
     "metadata": {},
     "output_type": "execute_result"
    }
   ],
   "source": [
    "iris = rst.load_dataset('iris')\n",
    "md_print_df(iris.head())"
   ]
  },
  {
   "cell_type": "markdown",
   "metadata": {},
   "source": [
    "### Running statistical analyses"
   ]
  },
  {
   "cell_type": "markdown",
   "metadata": {},
   "source": [
    "Analyses are performed through using designated model objects that also store the . The model objects are returned through calls to the function API. In this example we create a model (`m`) object by calling `t2samples`. `m` will be used to fit the statistical model, returning the `results` object.\n",
    "\n",
    "Here is a paired-samples t-test using the Students' sleep dataset previously loaded:"
   ]
  },
  {
   "cell_type": "code",
   "execution_count": 5,
   "metadata": {
    "scrolled": false
   },
   "outputs": [
    {
     "data": {
      "text/markdown": [
       "|  |        t |   df |    p-value |   Cohen-d Low |   Cohen-d |   Cohen-d High |\n",
       "|---:|---------:|-----:|-----------:|--------------:|----------:|---------------:|\n",
       "|  0 | -4.06213 |    9 | 0.00141645 |      -4.57304 |  -2.70809 |      -0.758771 |"
      ],
      "text/plain": [
       "<IPython.core.display.Markdown object>"
      ]
     },
     "execution_count": 5,
     "metadata": {},
     "output_type": "execute_result"
    }
   ],
   "source": [
    "# Create the model\n",
    "m = rst.groupwise.T2Samples(\n",
    "    data=rst.load_dataset('sleep'), independent='group', \n",
    "    dependent='extra', subject='ID', paired=True, tail='less')\n",
    "\n",
    "# Dataframe format of the results\n",
    "md_print_df(m.report_table())\n"
   ]
  },
  {
   "cell_type": "code",
   "execution_count": 6,
   "metadata": {},
   "outputs": [
    {
     "data": {
      "text/plain": [
       "'t(9) = -4.06, p = 0.001'"
      ]
     },
     "execution_count": 6,
     "metadata": {},
     "output_type": "execute_result"
    }
   ],
   "source": [
    "# Textual report of the results - copy and paste into your results section!\n",
    "m.report_text()"
   ]
  },
  {
   "cell_type": "markdown",
   "metadata": {},
   "source": [
    "We can reset the models in order to update the model parameters and re-fit it. In this example, we run the same model an an independent samples t-test:"
   ]
  },
  {
   "cell_type": "code",
   "execution_count": 7,
   "metadata": {
    "scrolled": false
   },
   "outputs": [
    {
     "data": {
      "text/markdown": [
       "|  |        t |   df |   p-value |   Cohen-d Low |   Cohen-d |   Cohen-d High |\n",
       "|---:|---------:|-----:|----------:|--------------:|----------:|---------------:|\n",
       "|  0 | -1.86081 |   18 | 0.0395934 |      -1.83678 | -0.877196 |       0.106988 |"
      ],
      "text/plain": [
       "<IPython.core.display.Markdown object>"
      ]
     },
     "execution_count": 7,
     "metadata": {},
     "output_type": "execute_result"
    }
   ],
   "source": [
    "m.reset(paired=False, assume_equal_variance=True)\n",
    "md_print_df(m.report_table())"
   ]
  },
  {
   "cell_type": "markdown",
   "metadata": {},
   "source": [
    "#### Bayesian t-tests\n",
    "`bayes_t2samples` and `bayes_t1sample` allow you to calculate Bayes factors or sample from the posterior distribution:"
   ]
  },
  {
   "cell_type": "code",
   "execution_count": 8,
   "metadata": {},
   "outputs": [
    {
     "data": {
      "text/markdown": [
       "|  | model       |      bf |       error |\n",
       "|---:|:------------|--------:|------------:|\n",
       "|  0 | Alt., r=0.5 | 71.3861 | 3.96597e-09 |"
      ],
      "text/plain": [
       "<IPython.core.display.Markdown object>"
      ]
     },
     "execution_count": 8,
     "metadata": {},
     "output_type": "execute_result"
    }
   ],
   "source": [
    "m = rst.groupwise.BayesT2Samples(\n",
    "        data=rst.load_dataset('mtcars'), subject='dataset_rownames',\n",
    "        dependent='mpg', independent='am', prior_scale=0.5,\n",
    "        paired=False)\n",
    "\n",
    "md_print_df(m.report_table())"
   ]
  },
  {
   "cell_type": "code",
   "execution_count": 9,
   "metadata": {
    "scrolled": true
   },
   "outputs": [
    {
     "name": "stdout",
     "output_type": "stream",
     "text": [
      "Alt., r=0.1 0<d<0.5 [BF1:0 = 0.46, Error = 0.001%]. Alt., r=0.1 !(0<d<0.5) [BF1:0 = 32.76, Error = 0.001%]\n",
      "\n",
      "\n"
     ]
    },
    {
     "data": {
      "text/markdown": [
       "|  | model                  |        bf |       error |\n",
       "|---:|:-----------------------|----------:|------------:|\n",
       "|  0 | Alt., r=0.1 0<d<0.5    |  0.463808 | 1.6519e-06  |\n",
       "|  1 | Alt., r=0.1 !(0<d<0.5) | 32.7598   | 1.11604e-06 |"
      ],
      "text/plain": [
       "<IPython.core.display.Markdown object>"
      ]
     },
     "execution_count": 9,
     "metadata": {},
     "output_type": "execute_result"
    }
   ],
   "source": [
    "# Test different null intervals and prior values:\n",
    "m.reset(prior_scale=0.1, null_interval=[0, 0.5])\n",
    "m.fit()\n",
    "print(f'{m.report_text()}\\n\\n')\n",
    "md_print_df(m.report_table())\n"
   ]
  },
  {
   "cell_type": "markdown",
   "metadata": {},
   "source": [
    "#### Analysis of variance\n",
    "use `Anova` to run between, within or mixed-design ANOVA, we load the anxiety dataset for the next demonstrations. \n",
    "\n",
    "For non-parametric ANOVAs see `KruskalWallisTest`, `FriedmanTest` and `AlignedRanksTest`\n"
   ]
  },
  {
   "cell_type": "code",
   "execution_count": 10,
   "metadata": {},
   "outputs": [
    {
     "data": {
      "text/markdown": [
       "|  |   id | group   | time   |   score |\n",
       "|---:|-----:|:--------|:-------|--------:|\n",
       "|  0 |    1 | grp1    | t1     |    14.1 |\n",
       "|  1 |    1 | grp1    | t2     |    14.4 |\n",
       "|  2 |    1 | grp1    | t3     |    14.1 |\n",
       "|  3 |    2 | grp1    | t1     |    14.5 |\n",
       "|  4 |    2 | grp1    | t2     |    14.6 |"
      ],
      "text/plain": [
       "<IPython.core.display.Markdown object>"
      ]
     },
     "execution_count": 10,
     "metadata": {},
     "output_type": "execute_result"
    }
   ],
   "source": [
    "# Load the dataset and modify it from a 'wide' to 'long' format dataframe\n",
    "anxiety = rst.load_dataset('anxiety').set_index(['id', 'group']\n",
    "                                           ).filter(regex='^t[1-3]$').stack().reset_index().rename(\n",
    "    columns={0: 'score',\n",
    "             'level_2': 'time'})\n",
    "md_print_df(anxiety.head())\n"
   ]
  },
  {
   "cell_type": "code",
   "execution_count": 11,
   "metadata": {},
   "outputs": [
    {
     "name": "stderr",
     "output_type": "stream",
     "text": [
      "R[write to console]: Contrasts set to contr.sum for the following variables: group\n",
      "\n"
     ]
    },
    {
     "data": {
      "text/markdown": [
       "|  | Term       |   p-value |   Partial Eta-Squared |      F |   df1 |   df2 |\n",
       "|---:|:-----------|----------:|----------------------:|-------:|------:|------:|\n",
       "|  0 | group      |     0.019 |                 0.172 |   4.35 |  2    | 42    |\n",
       "|  1 | time       |     0.001 |                 0.904 | 394.91 |  1.79 | 75.24 |\n",
       "|  2 | group:time |     0.001 |                 0.84  | 110.19 |  3.58 | 75.24 |"
      ],
      "text/plain": [
       "<IPython.core.display.Markdown object>"
      ]
     },
     "execution_count": 11,
     "metadata": {},
     "output_type": "execute_result"
    }
   ],
   "source": [
    "m = rst.groupwise.Anova(\n",
    "        data=anxiety, subject='id',\n",
    "        dependent='score', between='group', within='time')\n",
    "md_print_df(m.report_table())"
   ]
  },
  {
   "cell_type": "markdown",
   "metadata": {},
   "source": [
    "Similarly, we run the model usign only the between subject term (`group`). As the model was already generated we can simpyl drop the within-subject term:"
   ]
  },
  {
   "cell_type": "code",
   "execution_count": 12,
   "metadata": {},
   "outputs": [
    {
     "name": "stderr",
     "output_type": "stream",
     "text": [
      "R[write to console]: Contrasts set to contr.sum for the following variables: group\n",
      "\n"
     ]
    },
    {
     "data": {
      "text/markdown": [
       "|  | Term   |   p-value |   Partial Eta-Squared |    F |   df1 |   df2 |\n",
       "|---:|:-------|----------:|----------------------:|-----:|------:|------:|\n",
       "|  0 | group  |     0.019 |                 0.172 | 4.35 |     2 |    42 |"
      ],
      "text/plain": [
       "<IPython.core.display.Markdown object>"
      ]
     },
     "execution_count": 12,
     "metadata": {},
     "output_type": "execute_result"
    }
   ],
   "source": [
    "m.reset(within=None)\n",
    "md_print_df(m.report_table())"
   ]
  },
  {
   "cell_type": "markdown",
   "metadata": {},
   "source": [
    "R and many other statistical packages (e.g., [statsmodels](https://www.statsmodels.org/stable/index.html) support a formula interface to fit statistical models. Here it is shown that a model can also be specified by the formula kwargs rather than specifying `dependent`, `between` etc. The formula indicates that the score column is regressed by the time variable, with observations nested within the id column. "
   ]
  },
  {
   "cell_type": "code",
   "execution_count": 13,
   "metadata": {},
   "outputs": [
    {
     "data": {
      "text/markdown": [
       "|  | Term   |   p-value |   Partial Eta-Squared |     F |   df1 |   df2 |\n",
       "|---:|:-------|----------:|----------------------:|------:|------:|------:|\n",
       "|  0 | time   |     0.001 |                 0.601 | 66.23 |  1.15 | 50.55 |"
      ],
      "text/plain": [
       "<IPython.core.display.Markdown object>"
      ]
     },
     "execution_count": 13,
     "metadata": {},
     "output_type": "execute_result"
    }
   ],
   "source": [
    "m.reset(formula='score~time|id')\n",
    "md_print_df(m.report_table())\n"
   ]
  },
  {
   "cell_type": "markdown",
   "metadata": {},
   "source": [
    "Analysis of variance also gives us access to estimated marginal means, as a post-estimation function. "
   ]
  },
  {
   "cell_type": "code",
   "execution_count": 14,
   "metadata": {
    "scrolled": true
   },
   "outputs": [
    {
     "data": {
      "text/markdown": [
       "|  | time   |   emmean |       SE |      df |   lower.CL |   upper.CL |\n",
       "|---:|:-------|---------:|---------:|--------:|-----------:|-----------:|\n",
       "|  0 | t1     |  16.9156 | 0.261236 | 55.0262 |        nan |        nan |\n",
       "|  1 | t2     |  16.1356 | 0.261236 | 55.0262 |        nan |        nan |\n",
       "|  2 | t3     |  15.1978 | 0.261236 | 55.0262 |        nan |        nan |"
      ],
      "text/plain": [
       "<IPython.core.display.Markdown object>"
      ]
     },
     "execution_count": 14,
     "metadata": {},
     "output_type": "execute_result"
    }
   ],
   "source": [
    "md_print_df(m.get_margins('time'))"
   ]
  },
  {
   "cell_type": "markdown",
   "metadata": {},
   "source": [
    "We can also run a similar, bayesian ANOVA using `BayesAnova` comparing the specified terms to the null model:"
   ]
  },
  {
   "cell_type": "code",
   "execution_count": 15,
   "metadata": {},
   "outputs": [
    {
     "data": {
      "text/markdown": [
       "|  | model   |      bf |       error |\n",
       "|---:|:--------|--------:|------------:|\n",
       "|  0 | time    | 496.129 | 7.82496e-05 |"
      ],
      "text/plain": [
       "<IPython.core.display.Markdown object>"
      ]
     },
     "execution_count": 15,
     "metadata": {},
     "output_type": "execute_result"
    }
   ],
   "source": [
    "m = rst.groupwise.BayesAnova(data=anxiety, within='time',\n",
    "                        dependent='score', subject='id')\n",
    "md_print_df(m.report_table())"
   ]
  },
  {
   "cell_type": "markdown",
   "metadata": {},
   "source": [
    "## Work in progress and planned features\n",
    "\n",
    "robusta includes several other features that are either under development or planned for the future.\n",
    "\n",
    "\n",
    "<ins>Currently under work<ins>\n",
    "- Regressions and correlations modules\n",
    "  \n",
    "<ins>Planned<ins>\n",
    "- Sequential analysis plots (inspired by [JASP](https://jasp-stats.org/))"
   ]
  },
  {
   "cell_type": "markdown",
   "metadata": {},
   "source": [
    "## Requirements\n",
    "TODO\n",
    "\n",
    "## Documentation\n",
    "TODO\n",
    "\n",
    "## Contributing\n",
    "\n",
    "All help is welcomed, please contact [Eitan Hemed](mailto:Eitan.Hemed@gmail.com)\n",
    "\n"
   ]
  }
 ],
 "metadata": {
  "hide_input": false,
  "kernelspec": {
   "display_name": "Python 3",
   "language": "python",
   "name": "python3"
  },
  "language_info": {
   "codemirror_mode": {
    "name": "ipython",
    "version": 3
   },
   "file_extension": ".py",
   "mimetype": "text/x-python",
   "name": "python",
   "nbconvert_exporter": "python",
   "pygments_lexer": "ipython3",
   "version": "3.9.1"
  }
 },
 "nbformat": 4,
 "nbformat_minor": 4
}
